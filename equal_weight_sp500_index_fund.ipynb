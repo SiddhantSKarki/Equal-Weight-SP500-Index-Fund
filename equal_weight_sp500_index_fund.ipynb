{
 "cells": [
  {
   "cell_type": "markdown",
   "id": "068ce036",
   "metadata": {},
   "source": [
    "#  EQUAL WEIGHT S&P 500 Index Fund"
   ]
  },
  {
   "cell_type": "code",
   "execution_count": 1,
   "id": "05a8af8f",
   "metadata": {
    "scrolled": true
   },
   "outputs": [],
   "source": [
    "import numpy as np\n",
    "import pandas as pd\n",
    "import requests\n",
    "import xlsxwriter\n",
    "import math\n",
    "\n",
    "    \n",
    "    "
   ]
  },
  {
   "cell_type": "markdown",
   "id": "9a6ae1ef",
   "metadata": {},
   "source": [
    "# Importing Out List of Stocks"
   ]
  },
  {
   "cell_type": "code",
   "execution_count": 2,
   "id": "e1dec72c",
   "metadata": {},
   "outputs": [
    {
     "data": {
      "text/html": [
       "<div>\n",
       "<style scoped>\n",
       "    .dataframe tbody tr th:only-of-type {\n",
       "        vertical-align: middle;\n",
       "    }\n",
       "\n",
       "    .dataframe tbody tr th {\n",
       "        vertical-align: top;\n",
       "    }\n",
       "\n",
       "    .dataframe thead th {\n",
       "        text-align: right;\n",
       "    }\n",
       "</style>\n",
       "<table border=\"1\" class=\"dataframe\">\n",
       "  <thead>\n",
       "    <tr style=\"text-align: right;\">\n",
       "      <th></th>\n",
       "      <th>Ticker</th>\n",
       "    </tr>\n",
       "  </thead>\n",
       "  <tbody>\n",
       "    <tr>\n",
       "      <th>0</th>\n",
       "      <td>A</td>\n",
       "    </tr>\n",
       "    <tr>\n",
       "      <th>1</th>\n",
       "      <td>AAL</td>\n",
       "    </tr>\n",
       "    <tr>\n",
       "      <th>2</th>\n",
       "      <td>AAP</td>\n",
       "    </tr>\n",
       "    <tr>\n",
       "      <th>3</th>\n",
       "      <td>AAPL</td>\n",
       "    </tr>\n",
       "    <tr>\n",
       "      <th>4</th>\n",
       "      <td>ABBV</td>\n",
       "    </tr>\n",
       "    <tr>\n",
       "      <th>...</th>\n",
       "      <td>...</td>\n",
       "    </tr>\n",
       "    <tr>\n",
       "      <th>500</th>\n",
       "      <td>YUM</td>\n",
       "    </tr>\n",
       "    <tr>\n",
       "      <th>501</th>\n",
       "      <td>ZBH</td>\n",
       "    </tr>\n",
       "    <tr>\n",
       "      <th>502</th>\n",
       "      <td>ZBRA</td>\n",
       "    </tr>\n",
       "    <tr>\n",
       "      <th>503</th>\n",
       "      <td>ZION</td>\n",
       "    </tr>\n",
       "    <tr>\n",
       "      <th>504</th>\n",
       "      <td>ZTS</td>\n",
       "    </tr>\n",
       "  </tbody>\n",
       "</table>\n",
       "<p>505 rows × 1 columns</p>\n",
       "</div>"
      ],
      "text/plain": [
       "    Ticker\n",
       "0        A\n",
       "1      AAL\n",
       "2      AAP\n",
       "3     AAPL\n",
       "4     ABBV\n",
       "..     ...\n",
       "500    YUM\n",
       "501    ZBH\n",
       "502   ZBRA\n",
       "503   ZION\n",
       "504    ZTS\n",
       "\n",
       "[505 rows x 1 columns]"
      ]
     },
     "execution_count": 2,
     "metadata": {},
     "output_type": "execute_result"
    }
   ],
   "source": [
    "stocks = pd.read_csv('C:/Users/sidka/Downloads/sp_500_stocks.csv')\n",
    "stocks"
   ]
  },
  {
   "cell_type": "markdown",
   "id": "f237b4b6",
   "metadata": {},
   "source": [
    "# Acquiring an API token"
   ]
  },
  {
   "cell_type": "code",
   "execution_count": 3,
   "id": "84ceda43",
   "metadata": {},
   "outputs": [],
   "source": [
    "from secrets import IEX_CLOUD_API_TOKEN"
   ]
  },
  {
   "cell_type": "markdown",
   "id": "a88cb29e",
   "metadata": {},
   "source": [
    "# Making Our first API Call\n",
    "### We need The following from API Calls\n",
    " Market Cap for each stock\n",
    " \n",
    " Price for each stock"
   ]
  },
  {
   "cell_type": "code",
   "execution_count": 4,
   "id": "f8542b7e",
   "metadata": {},
   "outputs": [
    {
     "data": {
      "text/plain": [
       "dict_keys(['avgTotalVolume', 'calculationPrice', 'change', 'changePercent', 'close', 'closeSource', 'closeTime', 'companyName', 'currency', 'delayedPrice', 'delayedPriceTime', 'extendedChange', 'extendedChangePercent', 'extendedPrice', 'extendedPriceTime', 'high', 'highSource', 'highTime', 'iexAskPrice', 'iexAskSize', 'iexBidPrice', 'iexBidSize', 'iexClose', 'iexCloseTime', 'iexLastUpdated', 'iexMarketPercent', 'iexOpen', 'iexOpenTime', 'iexRealtimePrice', 'iexRealtimeSize', 'iexVolume', 'lastTradeTime', 'latestPrice', 'latestSource', 'latestTime', 'latestUpdate', 'latestVolume', 'low', 'lowSource', 'lowTime', 'marketCap', 'oddLotDelayedPrice', 'oddLotDelayedPriceTime', 'open', 'openTime', 'openSource', 'peRatio', 'previousClose', 'previousVolume', 'primaryExchange', 'symbol', 'volume', 'week52High', 'week52Low', 'ytdChange', 'isUSMarketOpen'])"
      ]
     },
     "execution_count": 4,
     "metadata": {},
     "output_type": "execute_result"
    }
   ],
   "source": [
    "symbol = 'AAPL'\n",
    "api_url = f\"https://cloud.iexapis.com/stable/stock/{symbol}/quote?token={IEX_CLOUD_API_TOKEN}\"\n",
    "data = requests.get(api_url).json()\n",
    "data.keys()"
   ]
  },
  {
   "cell_type": "code",
   "execution_count": null,
   "id": "d4611dd5",
   "metadata": {
    "scrolled": true
   },
   "outputs": [],
   "source": [
    "columns = ['Ticker', 'Price', 'Market Capitalization', 'Number of Shares to Buy']\n",
    "new_df = pd.DataFrame(columns = columns)\n",
    "\n",
    "\n",
    "\n",
    "def add_cols(item):\n",
    "    symbol = item['Ticker']\n",
    "    num = 0\n",
    "    try:\n",
    "        api_url = api_url = f\"https://cloud.iexapis.com/stable/stock/{symbol}/quote?token={IEX_CLOUD_API_TOKEN}\"\n",
    "        data = requests.get(api_url).json()\n",
    "        item['Price'] = data['latestPrice']\n",
    "        item['Market Capitalization'] = data['marketCap']\n",
    "        item['Number of Shares to Buy'] = \"N/A\"\n",
    "        return item\n",
    "    except:\n",
    "        num += 1\n",
    "    \n",
    "    \n",
    "df = stocks.apply(add_cols, axis=1)    "
   ]
  },
  {
   "cell_type": "markdown",
   "id": "7d86533b",
   "metadata": {},
   "source": [
    "# USING Batch API Call"
   ]
  },
  {
   "cell_type": "code",
   "execution_count": null,
   "id": "7d6b5ca2",
   "metadata": {},
   "outputs": [],
   "source": [
    "df.head()"
   ]
  },
  {
   "cell_type": "code",
   "execution_count": null,
   "id": "ba56bf2f",
   "metadata": {},
   "outputs": [],
   "source": [
    "# Function to split a list into chunks of size n\n",
    "def chunks_split(lst, size):\n",
    "    for i in range(0, len(lst), size):\n",
    "        yield lst[i:i + size]"
   ]
  },
  {
   "cell_type": "code",
   "execution_count": null,
   "id": "28348c76",
   "metadata": {},
   "outputs": [],
   "source": [
    "grps = list(chunks_split(stocks['Ticker'].values, 100))"
   ]
  },
  {
   "cell_type": "code",
   "execution_count": null,
   "id": "2d46cd2e",
   "metadata": {},
   "outputs": [],
   "source": [
    "comma_sep_grps = []\n",
    "for i in range(0, len(grps)):\n",
    "    comma_sep_grps.append(','.join(grps[i]))"
   ]
  },
  {
   "cell_type": "code",
   "execution_count": null,
   "id": "95e695e6",
   "metadata": {},
   "outputs": [],
   "source": [
    "final_dataframe = pd.DataFrame(columns=columns)\n",
    "final_dataframe"
   ]
  },
  {
   "cell_type": "code",
   "execution_count": null,
   "id": "27a5d4d8",
   "metadata": {},
   "outputs": [],
   "source": [
    "lst_series = []\n",
    "for comma_sep_grp in comma_sep_grps:\n",
    "    batch_api_request = f'https://cloud.iexapis.com/stable/stock/market/batch?symbols={comma_sep_grp}&types=quote&token={IEX_CLOUD_API_TOKEN}'\n",
    "    data = requests.get(batch_api_request).json()\n",
    "    for symbol in comma_sep_grp.split(','):\n",
    "        try:\n",
    "            temp_series = pd.Series([\n",
    "                symbol,\n",
    "                data[symbol]['quote']['latestPrice'],\n",
    "                data[symbol]['quote']['marketCap'],\n",
    "                'N/A'\n",
    "            ], index=columns)\n",
    "            lst_series.append(temp_series)\n",
    "        except:\n",
    "            pass\n",
    "        \n",
    "final_dataframe = pd.DataFrame(lst_series)"
   ]
  },
  {
   "cell_type": "code",
   "execution_count": null,
   "id": "42f22fb8",
   "metadata": {},
   "outputs": [],
   "source": [
    "final_dataframe"
   ]
  },
  {
   "cell_type": "markdown",
   "id": "0a4342a2",
   "metadata": {},
   "source": [
    "# Calculating the number of shares to buy"
   ]
  },
  {
   "cell_type": "code",
   "execution_count": null,
   "id": "075408f9",
   "metadata": {},
   "outputs": [],
   "source": [
    "portfolio_size = input(\"Enter the size of your portfolio: \")\n",
    "try:\n",
    "    value = float(portfolio_size)\n",
    "except TypeError:\n",
    "    print(\"Please Enter a number/float value!\")\n",
    "    portfolio_size = input(\"Enter the size of your portfolio: \")\n",
    "    value = float(portfolio_size)"
   ]
  },
  {
   "cell_type": "code",
   "execution_count": null,
   "id": "f80431d9",
   "metadata": {},
   "outputs": [],
   "source": [
    "positional_size = value/len(final_dataframe.index)\n",
    "\n",
    "def num_shares_to_buy(x):\n",
    "    x['Number of Shares to Buy'] = math.floor(positional_size / x['Price'])\n",
    "    return x\n",
    "\n",
    "final_dataframe.transform(num_shares_to_buy, axis=1)"
   ]
  },
  {
   "cell_type": "markdown",
   "id": "67c81547",
   "metadata": {},
   "source": [
    "# Using xlsxwriter "
   ]
  },
  {
   "cell_type": "code",
   "execution_count": null,
   "id": "73f8084c",
   "metadata": {},
   "outputs": [],
   "source": [
    "writer = pd.ExcelWriter(\"recommended trades.xlsx\", engine='xlsxwriter')"
   ]
  },
  {
   "cell_type": "code",
   "execution_count": null,
   "id": "170de2bb",
   "metadata": {},
   "outputs": [],
   "source": [
    "final_dataframe.to_excel(writer, 'Recommended Trades', index=False)"
   ]
  },
  {
   "cell_type": "code",
   "execution_count": null,
   "id": "f7cfd107",
   "metadata": {},
   "outputs": [],
   "source": [
    "background_color = '#0a0a23'\n",
    "font_color = '#ffffff'\n",
    "\n",
    "string_format = writer.book.add_format(\n",
    "{\n",
    "    'font_color': font_color,\n",
    "    'bg_color': background_color,\n",
    "    'border': 1\n",
    "})\n",
    "\n",
    "dollar_format = writer.book.add_format(\n",
    "{\n",
    "    'num_format': '$0.00',\n",
    "    'font_color': font_color,\n",
    "    'bg_color': background_color,\n",
    "    'border': 1\n",
    "})\n",
    "integer_format = writer.book.add_format(\n",
    "{\n",
    "    'num_format': '0.00',\n",
    "    'font_color': font_color,\n",
    "    'bg_color': background_color,\n",
    "    'border': 1\n",
    "})\n"
   ]
  },
  {
   "cell_type": "code",
   "execution_count": null,
   "id": "d21eb57f",
   "metadata": {},
   "outputs": [],
   "source": [
    "columns_formats = {\n",
    "    'A': ['Ticker', string_format],\n",
    "    'B': ['Price', dollar_format],\n",
    "    'C': ['Market Capitalization', dollar_format],\n",
    "    'D': ['Number of Shares to Buy', integer_format]\n",
    "    \n",
    "}"
   ]
  },
  {
   "cell_type": "code",
   "execution_count": null,
   "id": "4ef2d6ae",
   "metadata": {},
   "outputs": [],
   "source": [
    "for column in columns_formats.keys():\n",
    "    writer.sheets['Recommended Trades'].set_column(f'{column}:{column}', 18, columns_formats[column][1])\n",
    "    writer.sheets['Recommended Trades'].write(f'{column}1', columns_formats[column][0], string_format)"
   ]
  },
  {
   "cell_type": "markdown",
   "id": "c9aba2cd",
   "metadata": {},
   "source": [
    "# Saving Excel output"
   ]
  },
  {
   "cell_type": "code",
   "execution_count": null,
   "id": "d2751c67",
   "metadata": {},
   "outputs": [],
   "source": [
    "writer.save()"
   ]
  }
 ],
 "metadata": {
  "kernelspec": {
   "display_name": "Python 3 (ipykernel)",
   "language": "python",
   "name": "python3"
  },
  "language_info": {
   "codemirror_mode": {
    "name": "ipython",
    "version": 3
   },
   "file_extension": ".py",
   "mimetype": "text/x-python",
   "name": "python",
   "nbconvert_exporter": "python",
   "pygments_lexer": "ipython3",
   "version": "3.9.12"
  }
 },
 "nbformat": 4,
 "nbformat_minor": 5
}
